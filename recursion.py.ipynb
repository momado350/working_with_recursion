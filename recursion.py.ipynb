{
 "cells": [
  {
   "cell_type": "code",
   "execution_count": null,
   "metadata": {},
   "outputs": [],
   "source": [
    "# this function sum nums up to n\n",
    "def sum_to_one(n):\n",
    "\n",
    "  result = 1\n",
    "# create an empty list to hold our cases\n",
    "  call_stack = []\n",
    "# loop through the list untill n=1\n",
    "  while n != 1:\n",
    "        #create a dictionary that point to n every time we loop\n",
    "    execution_context = {\"n_value\": n}\n",
    "    # append list method to the end of call_stack list\n",
    "    call_stack.append(execution_context)\n",
    "    \n",
    "    n -=1\n",
    "    print(call_stack)\n",
    "  print(\"BASE CASE REACHED\")\n",
    "\n",
    "  return result, call_stack\n",
    "\n",
    "sum_to_one(4)"
   ]
  }
 ],
 "metadata": {
  "kernelspec": {
   "display_name": "Python 3",
   "language": "python",
   "name": "python3"
  },
  "language_info": {
   "codemirror_mode": {
    "name": "ipython",
    "version": 3
   },
   "file_extension": ".py",
   "mimetype": "text/x-python",
   "name": "python",
   "nbconvert_exporter": "python",
   "pygments_lexer": "ipython3",
   "version": "3.6.10"
  }
 },
 "nbformat": 4,
 "nbformat_minor": 4
}
